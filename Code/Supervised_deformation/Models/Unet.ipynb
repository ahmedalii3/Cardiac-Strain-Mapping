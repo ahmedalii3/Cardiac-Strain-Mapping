{
 "cells": [
  {
   "cell_type": "code",
   "execution_count": 1,
   "metadata": {},
   "outputs": [],
   "source": [
    "import tensorflow as tf\n",
    "from tensorflow.keras.models import Model\n",
    "from tensorflow import keras\n",
    "from tensorflow.keras.callbacks import ModelCheckpoint, TensorBoard\n",
    "import matplotlib.pyplot as plt\n",
    "from keras.layers import Input, concatenate, add, Multiply, Lambda\n",
    "from keras.layers import Conv3D, MaxPooling3D, MaxPooling2D, UpSampling2D,UpSampling3D, Conv2D\n",
    "from keras.layers import Activation\n",
    "from keras.layers import BatchNormalization\n",
    "from keras.models import Model\n",
    "import os\n",
    "import numpy as np\n",
    "import tensorflow as tf\n",
    "from tensorflow.keras import layers, Model\n",
    "from tensorflow.keras.initializers import HeUniform\n",
    "from tensorflow.keras.layers import Input, Conv2D, Conv2DTranspose, MaxPooling2D, Concatenate, Add, Multiply, BatchNormalization, Activation\n",
    "from tensorflow.keras.models import Model"
   ]
  },
  {
   "cell_type": "code",
   "execution_count": 2,
   "metadata": {},
   "outputs": [
    {
     "data": {
      "text/html": [
       "<pre style=\"white-space:pre;overflow-x:auto;line-height:normal;font-family:Menlo,'DejaVu Sans Mono',consolas,'Courier New',monospace\"><span style=\"font-weight: bold\">Model: \"functional\"</span>\n",
       "</pre>\n"
      ],
      "text/plain": [
       "\u001b[1mModel: \"functional\"\u001b[0m\n"
      ]
     },
     "metadata": {},
     "output_type": "display_data"
    },
    {
     "data": {
      "text/html": [
       "<pre style=\"white-space:pre;overflow-x:auto;line-height:normal;font-family:Menlo,'DejaVu Sans Mono',consolas,'Courier New',monospace\">┏━━━━━━━━━━━━━━━━━━━━━┳━━━━━━━━━━━━━━━━━━━┳━━━━━━━━━━━━┳━━━━━━━━━━━━━━━━━━━┓\n",
       "┃<span style=\"font-weight: bold\"> Layer (type)        </span>┃<span style=\"font-weight: bold\"> Output Shape      </span>┃<span style=\"font-weight: bold\">    Param # </span>┃<span style=\"font-weight: bold\"> Connected to      </span>┃\n",
       "┡━━━━━━━━━━━━━━━━━━━━━╇━━━━━━━━━━━━━━━━━━━╇━━━━━━━━━━━━╇━━━━━━━━━━━━━━━━━━━┩\n",
       "│ moving_image        │ (<span style=\"color: #00d7ff; text-decoration-color: #00d7ff\">None</span>, <span style=\"color: #00af00; text-decoration-color: #00af00\">128</span>, <span style=\"color: #00af00; text-decoration-color: #00af00\">128</span>,  │          <span style=\"color: #00af00; text-decoration-color: #00af00\">0</span> │ -                 │\n",
       "│ (<span style=\"color: #0087ff; text-decoration-color: #0087ff\">InputLayer</span>)        │ <span style=\"color: #00af00; text-decoration-color: #00af00\">1</span>)                │            │                   │\n",
       "├─────────────────────┼───────────────────┼────────────┼───────────────────┤\n",
       "│ fixed_image         │ (<span style=\"color: #00d7ff; text-decoration-color: #00d7ff\">None</span>, <span style=\"color: #00af00; text-decoration-color: #00af00\">128</span>, <span style=\"color: #00af00; text-decoration-color: #00af00\">128</span>,  │          <span style=\"color: #00af00; text-decoration-color: #00af00\">0</span> │ -                 │\n",
       "│ (<span style=\"color: #0087ff; text-decoration-color: #0087ff\">InputLayer</span>)        │ <span style=\"color: #00af00; text-decoration-color: #00af00\">1</span>)                │            │                   │\n",
       "├─────────────────────┼───────────────────┼────────────┼───────────────────┤\n",
       "│ unet (<span style=\"color: #0087ff; text-decoration-color: #0087ff\">Unet</span>)         │ (<span style=\"color: #00d7ff; text-decoration-color: #00d7ff\">None</span>, <span style=\"color: #00af00; text-decoration-color: #00af00\">128</span>, <span style=\"color: #00af00; text-decoration-color: #00af00\">128</span>,  │ <span style=\"color: #00af00; text-decoration-color: #00af00\">34,540,226</span> │ moving_image[<span style=\"color: #00af00; text-decoration-color: #00af00\">0</span>][<span style=\"color: #00af00; text-decoration-color: #00af00\">…</span> │\n",
       "│                     │ <span style=\"color: #00af00; text-decoration-color: #00af00\">2</span>)                │            │ fixed_image[<span style=\"color: #00af00; text-decoration-color: #00af00\">0</span>][<span style=\"color: #00af00; text-decoration-color: #00af00\">0</span>] │\n",
       "└─────────────────────┴───────────────────┴────────────┴───────────────────┘\n",
       "</pre>\n"
      ],
      "text/plain": [
       "┏━━━━━━━━━━━━━━━━━━━━━┳━━━━━━━━━━━━━━━━━━━┳━━━━━━━━━━━━┳━━━━━━━━━━━━━━━━━━━┓\n",
       "┃\u001b[1m \u001b[0m\u001b[1mLayer (type)       \u001b[0m\u001b[1m \u001b[0m┃\u001b[1m \u001b[0m\u001b[1mOutput Shape     \u001b[0m\u001b[1m \u001b[0m┃\u001b[1m \u001b[0m\u001b[1m   Param #\u001b[0m\u001b[1m \u001b[0m┃\u001b[1m \u001b[0m\u001b[1mConnected to     \u001b[0m\u001b[1m \u001b[0m┃\n",
       "┡━━━━━━━━━━━━━━━━━━━━━╇━━━━━━━━━━━━━━━━━━━╇━━━━━━━━━━━━╇━━━━━━━━━━━━━━━━━━━┩\n",
       "│ moving_image        │ (\u001b[38;5;45mNone\u001b[0m, \u001b[38;5;34m128\u001b[0m, \u001b[38;5;34m128\u001b[0m,  │          \u001b[38;5;34m0\u001b[0m │ -                 │\n",
       "│ (\u001b[38;5;33mInputLayer\u001b[0m)        │ \u001b[38;5;34m1\u001b[0m)                │            │                   │\n",
       "├─────────────────────┼───────────────────┼────────────┼───────────────────┤\n",
       "│ fixed_image         │ (\u001b[38;5;45mNone\u001b[0m, \u001b[38;5;34m128\u001b[0m, \u001b[38;5;34m128\u001b[0m,  │          \u001b[38;5;34m0\u001b[0m │ -                 │\n",
       "│ (\u001b[38;5;33mInputLayer\u001b[0m)        │ \u001b[38;5;34m1\u001b[0m)                │            │                   │\n",
       "├─────────────────────┼───────────────────┼────────────┼───────────────────┤\n",
       "│ unet (\u001b[38;5;33mUnet\u001b[0m)         │ (\u001b[38;5;45mNone\u001b[0m, \u001b[38;5;34m128\u001b[0m, \u001b[38;5;34m128\u001b[0m,  │ \u001b[38;5;34m34,540,226\u001b[0m │ moving_image[\u001b[38;5;34m0\u001b[0m][\u001b[38;5;34m…\u001b[0m │\n",
       "│                     │ \u001b[38;5;34m2\u001b[0m)                │            │ fixed_image[\u001b[38;5;34m0\u001b[0m][\u001b[38;5;34m0\u001b[0m] │\n",
       "└─────────────────────┴───────────────────┴────────────┴───────────────────┘\n"
      ]
     },
     "metadata": {},
     "output_type": "display_data"
    },
    {
     "data": {
      "text/html": [
       "<pre style=\"white-space:pre;overflow-x:auto;line-height:normal;font-family:Menlo,'DejaVu Sans Mono',consolas,'Courier New',monospace\"><span style=\"font-weight: bold\"> Total params: </span><span style=\"color: #00af00; text-decoration-color: #00af00\">34,540,226</span> (131.76 MB)\n",
       "</pre>\n"
      ],
      "text/plain": [
       "\u001b[1m Total params: \u001b[0m\u001b[38;5;34m34,540,226\u001b[0m (131.76 MB)\n"
      ]
     },
     "metadata": {},
     "output_type": "display_data"
    },
    {
     "data": {
      "text/html": [
       "<pre style=\"white-space:pre;overflow-x:auto;line-height:normal;font-family:Menlo,'DejaVu Sans Mono',consolas,'Courier New',monospace\"><span style=\"font-weight: bold\"> Trainable params: </span><span style=\"color: #00af00; text-decoration-color: #00af00\">34,526,530</span> (131.71 MB)\n",
       "</pre>\n"
      ],
      "text/plain": [
       "\u001b[1m Trainable params: \u001b[0m\u001b[38;5;34m34,526,530\u001b[0m (131.71 MB)\n"
      ]
     },
     "metadata": {},
     "output_type": "display_data"
    },
    {
     "data": {
      "text/html": [
       "<pre style=\"white-space:pre;overflow-x:auto;line-height:normal;font-family:Menlo,'DejaVu Sans Mono',consolas,'Courier New',monospace\"><span style=\"font-weight: bold\"> Non-trainable params: </span><span style=\"color: #00af00; text-decoration-color: #00af00\">13,696</span> (53.50 KB)\n",
       "</pre>\n"
      ],
      "text/plain": [
       "\u001b[1m Non-trainable params: \u001b[0m\u001b[38;5;34m13,696\u001b[0m (53.50 KB)\n"
      ]
     },
     "metadata": {},
     "output_type": "display_data"
    }
   ],
   "source": [
    "class Conv_block(tf.keras.Model):\n",
    "    def __init__(self,num_filters):\n",
    "        super(Conv_block, self).__init__()\n",
    "        self.conv1 = Conv2D(num_filters, 3, padding = 'same', kernel_initializer = 'he_normal')\n",
    "        self.bn1 = BatchNormalization()\n",
    "        self.act1 = Activation('relu')\n",
    "        self.conv2 = Conv2D(num_filters, 3, padding = 'same', kernel_initializer = 'he_normal')\n",
    "        self.bn2 = BatchNormalization()\n",
    "        self.act2 = Activation('relu')\n",
    "        \n",
    "    def call(self, inputs):\n",
    "        x = self.conv1(inputs)\n",
    "        x = self.bn1(x)\n",
    "        x = self.act1(x)\n",
    "        x = self.conv2(x)\n",
    "        x = self.bn2(x)\n",
    "        x = self.act2(x)\n",
    "        return x\n",
    "\n",
    "class UpConv_block(tf.keras.Model):\n",
    "    def __init__(self, num_filters):\n",
    "        super(UpConv_block, self).__init__()\n",
    "        self.upconv = Conv2DTranspose(num_filters, 3, strides = 2, padding = 'same')\n",
    "        self.bn = BatchNormalization()\n",
    "        self.act = Activation('relu')\n",
    "\n",
    "    def call(self, inputs):\n",
    "        x = self.upconv(inputs)\n",
    "        x = self.bn(x)\n",
    "        x = self.act(x)\n",
    "        return x\n",
    "\n",
    "class Max_pool(tf.keras.Model):\n",
    "    def __init__(self):\n",
    "        super(Max_pool, self).__init__()\n",
    "        self.pool = MaxPooling2D(pool_size = (2,2))\n",
    "\n",
    "    def call(self, inputs):\n",
    "        x = self.pool(inputs)\n",
    "        return x\n",
    "\n",
    "class Unet(tf.keras.Model):\n",
    "    def __init__(self):\n",
    "        super(Unet, self).__init__()\n",
    "        self.conv_block1 = Conv_block(64)\n",
    "        self.pool1 = Max_pool()\n",
    "        self.conv_block2 = Conv_block(128)\n",
    "        self.pool2 = Max_pool()\n",
    "        self.conv_block3 = Conv_block(256)\n",
    "        self.pool3 = Max_pool()\n",
    "        self.conv_block4 = Conv_block(512)\n",
    "        self.pool4 = Max_pool()\n",
    "\n",
    "        # bottleneck\n",
    "        self.conv_block5 = Conv_block(1024)\n",
    "\n",
    "        self.upconv_block1 = UpConv_block(512)\n",
    "        self.conv_block6 = Conv_block(512)\n",
    "        self.upconv_block2 = UpConv_block(256)\n",
    "        self.conv_block7 = Conv_block(256)\n",
    "        self.upconv_block3 = UpConv_block(128)\n",
    "        self.conv_block8 = Conv_block(128)\n",
    "        self.upconv_block4 = UpConv_block(64)\n",
    "        self.conv_block9 = Conv_block(64)\n",
    "\n",
    "        self.output_def = Conv2D(2, 1, activation = 'linear')\n",
    "\n",
    "    def call(self, inputs):\n",
    "        moving, fixed = inputs\n",
    "        inputs = concatenate([moving, fixed], axis = -1)\n",
    "\n",
    "        conv1 = self.conv_block1(inputs)\n",
    "        pool1 = self.pool1(conv1)\n",
    "        conv2 = self.conv_block2(pool1)\n",
    "        pool2 = self.pool2(conv2)\n",
    "        conv3 = self.conv_block3(pool2)\n",
    "        pool3 = self.pool3(conv3)\n",
    "        conv4 = self.conv_block4(pool3)\n",
    "        pool4 = self.pool4(conv4)\n",
    "\n",
    "        # bottleneck\n",
    "        conv5 = self.conv_block5(pool4)\n",
    "\n",
    "        upconv1 = self.upconv_block1(conv5)\n",
    "        concat1 = Concatenate()([conv4, upconv1])\n",
    "        conv6 = self.conv_block6(concat1)\n",
    "        upconv2 = self.upconv_block2(conv6)\n",
    "        concat2 = Concatenate()([conv3, upconv2])\n",
    "        conv7 = self.conv_block7(concat2)\n",
    "        upconv3 = self.upconv_block3(conv7)\n",
    "        concat3 = Concatenate()([conv2, upconv3])\n",
    "        conv8 = self.conv_block8(concat3)\n",
    "        upconv4 = self.upconv_block4(conv8)\n",
    "        concat4 = Concatenate()([conv1, upconv4])\n",
    "        conv9 = self.conv_block9(concat4)\n",
    "\n",
    "        output = self.output_def(conv9)\n",
    "        return output\n",
    "\n",
    "fixed_input = Input(shape=(128, 128, 1), name=\"fixed_image\")\n",
    "moving_input = Input(shape=(128, 128, 1), name=\"moving_image\")\n",
    "\n",
    "resunet = Unet()\n",
    "out_def = resunet([moving_input, fixed_input])\n",
    "\n",
    "model = Model(inputs=[moving_input, fixed_input], outputs=out_def)\n",
    "\n",
    "# Print model summary\n",
    "model.summary()\n"
   ]
  }
 ],
 "metadata": {
  "kernelspec": {
   "display_name": "Python 3",
   "language": "python",
   "name": "python3"
  },
  "language_info": {
   "codemirror_mode": {
    "name": "ipython",
    "version": 3
   },
   "file_extension": ".py",
   "mimetype": "text/x-python",
   "name": "python",
   "nbconvert_exporter": "python",
   "pygments_lexer": "ipython3",
   "version": "3.12.7"
  }
 },
 "nbformat": 4,
 "nbformat_minor": 2
}
