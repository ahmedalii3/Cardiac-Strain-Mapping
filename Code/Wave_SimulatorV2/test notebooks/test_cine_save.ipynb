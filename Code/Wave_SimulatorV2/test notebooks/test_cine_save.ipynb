{
 "cells": [
  {
   "cell_type": "code",
   "execution_count": 1,
   "id": "317d05b4",
   "metadata": {},
   "outputs": [],
   "source": [
    "import numpy as np\n",
    "from wave_simulation import animate_deformation_cines"
   ]
  },
  {
   "cell_type": "code",
   "execution_count": 5,
   "id": "24230e95",
   "metadata": {},
   "outputs": [],
   "source": [
    "cine1 = np.load('/Users/osama/GP-2025-Strain/Code/Wave_SimulatorV2/generatedData/Cines/cine_patient056_frame01_slice_5_ACDC.npy', allow_pickle=True).item()\n"
   ]
  },
  {
   "cell_type": "code",
   "execution_count": 6,
   "id": "d14c1606",
   "metadata": {},
   "outputs": [],
   "source": [
    "Image_deformed_all = cine1[\"Image\"]\n",
    "Mask_deformed_all = cine1[\"Mask\"]\n",
    "T3DDispX_masked_all = cine1[\"T3DDispX_masked\"]\n",
    "T3DDispY_masked_all = cine1[\"T3DDispY_masked\"]\n",
    "Ep1All_dilated_mask = cine1[\"Ep1All_dilated_mask\"]\n",
    "Ep2All_dilated_mask = cine1[\"Ep2All_dilated_mask\"]\n",
    "Ep3All_dilated_mask = cine1[\"Ep3All_dilated_mask\"]\n",
    "MaskFadedDefrmd_all = cine1[\"MaskFadedDefrmd\"]"
   ]
  },
  {
   "cell_type": "code",
   "execution_count": null,
   "id": "c88c66e6",
   "metadata": {},
   "outputs": [
    {
     "name": "stdout",
     "output_type": "stream",
     "text": [
      "Animation saved as deformation_cines.mp4\n"
     ]
    }
   ],
   "source": [
    "ani=animate_deformation_cines(\n",
    "    Image_deformed_all, Mask_deformed_all,\n",
    "    T3DDispX_masked_all, T3DDispY_masked_all,\n",
    "    Ep1All_dilated_mask, Ep2All_dilated_mask, Ep3All_dilated_mask, MaskFadedDefrmd_all,\n",
    "    strain_peak_neg=-0.4, strain_peak_pos=0.4, save_file=True)\n",
    "HTML(ani.to_jshtml())"
   ]
  },
  {
   "cell_type": "code",
   "execution_count": 8,
   "id": "d611cf67",
   "metadata": {},
   "outputs": [
    {
     "name": "stdout",
     "output_type": "stream",
     "text": [
      "352.5489583432626\n"
     ]
    }
   ],
   "source": [
    "print(cine1['wind_dir_y'])"
   ]
  },
  {
   "cell_type": "code",
   "execution_count": null,
   "id": "27d9c4f5",
   "metadata": {},
   "outputs": [],
   "source": []
  }
 ],
 "metadata": {
  "kernelspec": {
   "display_name": "Python 3",
   "language": "python",
   "name": "python3"
  },
  "language_info": {
   "codemirror_mode": {
    "name": "ipython",
    "version": 3
   },
   "file_extension": ".py",
   "mimetype": "text/x-python",
   "name": "python",
   "nbconvert_exporter": "python",
   "pygments_lexer": "ipython3",
   "version": "3.9.20"
  }
 },
 "nbformat": 4,
 "nbformat_minor": 5
}
