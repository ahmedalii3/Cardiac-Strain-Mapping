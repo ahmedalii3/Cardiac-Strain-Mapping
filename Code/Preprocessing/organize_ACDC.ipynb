{
 "cells": [
  {
   "cell_type": "code",
   "execution_count": 5,
   "metadata": {},
   "outputs": [],
   "source": [
    "import os\n",
    "import shutil\n",
    "import re\n",
    "\n",
    "def group_files_by_patient(source_folder):\n",
    "  \"\"\"\n",
    "  Groups .npy files in the specified source folder by patient ID.\n",
    "  This function scans the given source folder for .npy files, extracts the patient ID\n",
    "  from each file name using a regex pattern, and moves the files into corresponding\n",
    "  subfolders named after the patient IDs.\n",
    "  Parameters:\n",
    "  source_folder (str): The path to the folder containing the .npy files to be organized.\n",
    "  Returns:\n",
    "  None\n",
    "  Example:\n",
    "  If the source folder contains files named 'patient001_image.npy', 'patient002_image.npy',\n",
    "  and 'patient001_label.npy', the function will create subfolders 'patient001' and 'patient002'\n",
    "  in the source folder and move the files into these subfolders accordingly.\n",
    "  \"\"\"\n",
    "  # List all .npy files in the folder\n",
    "  files = [f for f in os.listdir(source_folder) if f.endswith(\".npy\")]\n",
    "\n",
    "  # Regex pattern to extract patient ID (e.g., patientXXX)\n",
    "  pattern = re.compile(r\"^(patient\\d+)_\")\n",
    "\n",
    "  for file in files:\n",
    "    match = pattern.match(file)\n",
    "    if match:\n",
    "      patient_id = match.group(1)  # Extract patientXXX\n",
    "      patient_folder = os.path.join(source_folder, patient_id)\n",
    "      \n",
    "      # Create the patient folder if it doesn't exist\n",
    "      os.makedirs(patient_folder, exist_ok=True)\n",
    "      \n",
    "      # Move the file into the corresponding patient folder\n",
    "      shutil.move(os.path.join(source_folder, file), os.path.join(patient_folder, file))\n",
    "\n",
    "  print(\"Files have been grouped into their respective patient folders.\")\n"
   ]
  },
  {
   "cell_type": "code",
   "execution_count": 4,
   "metadata": {},
   "outputs": [
    {
     "name": "stdout",
     "output_type": "stream",
     "text": [
      "Files have been grouped into their respective patient folders.\n"
     ]
    },
    {
     "ename": "FileNotFoundError",
     "evalue": "[WinError 3] The system cannot find the path specified: 'd:\\\\study\\\\graduation project\\\\GP-2025-Strain\\\\Data\\\\ACDC\\\\database\\\\processed_testing'",
     "output_type": "error",
     "traceback": [
      "\u001b[1;31m---------------------------------------------------------------------------\u001b[0m",
      "\u001b[1;31mFileNotFoundError\u001b[0m                         Traceback (most recent call last)",
      "Cell \u001b[1;32mIn[4], line 2\u001b[0m\n\u001b[0;32m      1\u001b[0m group_files_by_patient(os\u001b[38;5;241m.\u001b[39mpath\u001b[38;5;241m.\u001b[39mabspath(os\u001b[38;5;241m.\u001b[39mpath\u001b[38;5;241m.\u001b[39mjoin(os\u001b[38;5;241m.\u001b[39mgetcwd(), \u001b[38;5;124m\"\u001b[39m\u001b[38;5;124m../../Data/ACDC/database/processed_training\u001b[39m\u001b[38;5;124m\"\u001b[39m)))\n\u001b[1;32m----> 2\u001b[0m \u001b[43mgroup_files_by_patient\u001b[49m\u001b[43m(\u001b[49m\u001b[43mos\u001b[49m\u001b[38;5;241;43m.\u001b[39;49m\u001b[43mpath\u001b[49m\u001b[38;5;241;43m.\u001b[39;49m\u001b[43mabspath\u001b[49m\u001b[43m(\u001b[49m\u001b[43mos\u001b[49m\u001b[38;5;241;43m.\u001b[39;49m\u001b[43mpath\u001b[49m\u001b[38;5;241;43m.\u001b[39;49m\u001b[43mjoin\u001b[49m\u001b[43m(\u001b[49m\u001b[43mos\u001b[49m\u001b[38;5;241;43m.\u001b[39;49m\u001b[43mgetcwd\u001b[49m\u001b[43m(\u001b[49m\u001b[43m)\u001b[49m\u001b[43m,\u001b[49m\u001b[43m \u001b[49m\u001b[38;5;124;43m\"\u001b[39;49m\u001b[38;5;124;43m../../Data/ACDC/database/processed_testing\u001b[39;49m\u001b[38;5;124;43m\"\u001b[39;49m\u001b[43m)\u001b[49m\u001b[43m)\u001b[49m\u001b[43m)\u001b[49m\n",
      "Cell \u001b[1;32mIn[3], line 7\u001b[0m, in \u001b[0;36mgroup_files_by_patient\u001b[1;34m(source_folder)\u001b[0m\n\u001b[0;32m      5\u001b[0m \u001b[38;5;28;01mdef\u001b[39;00m \u001b[38;5;21mgroup_files_by_patient\u001b[39m(source_folder):\n\u001b[0;32m      6\u001b[0m   \u001b[38;5;66;03m# List all .npy files in the folder\u001b[39;00m\n\u001b[1;32m----> 7\u001b[0m   files \u001b[38;5;241m=\u001b[39m [f \u001b[38;5;28;01mfor\u001b[39;00m f \u001b[38;5;129;01min\u001b[39;00m \u001b[43mos\u001b[49m\u001b[38;5;241;43m.\u001b[39;49m\u001b[43mlistdir\u001b[49m\u001b[43m(\u001b[49m\u001b[43msource_folder\u001b[49m\u001b[43m)\u001b[49m \u001b[38;5;28;01mif\u001b[39;00m f\u001b[38;5;241m.\u001b[39mendswith(\u001b[38;5;124m\"\u001b[39m\u001b[38;5;124m.npy\u001b[39m\u001b[38;5;124m\"\u001b[39m)]\n\u001b[0;32m      9\u001b[0m   \u001b[38;5;66;03m# Regex pattern to extract patient ID (e.g., patientXXX)\u001b[39;00m\n\u001b[0;32m     10\u001b[0m   pattern \u001b[38;5;241m=\u001b[39m re\u001b[38;5;241m.\u001b[39mcompile(\u001b[38;5;124mr\u001b[39m\u001b[38;5;124m\"\u001b[39m\u001b[38;5;124m^(patient\u001b[39m\u001b[38;5;124m\\\u001b[39m\u001b[38;5;124md+)_\u001b[39m\u001b[38;5;124m\"\u001b[39m)\n",
      "\u001b[1;31mFileNotFoundError\u001b[0m: [WinError 3] The system cannot find the path specified: 'd:\\\\study\\\\graduation project\\\\GP-2025-Strain\\\\Data\\\\ACDC\\\\database\\\\processed_testing'"
     ]
    }
   ],
   "source": [
    "group_files_by_patient(os.path.abspath(os.path.join(os.getcwd(), \"../../Data/ACDC/database/processed_training\")))\n",
    "group_files_by_patient(os.path.abspath(os.path.join(os.getcwd(), \"../../Data/ACDC/database/processed_testing\")))"
   ]
  },
  {
   "cell_type": "code",
   "execution_count": null,
   "metadata": {},
   "outputs": [],
   "source": []
  }
 ],
 "metadata": {
  "kernelspec": {
   "display_name": "Python 3",
   "language": "python",
   "name": "python3"
  },
  "language_info": {
   "codemirror_mode": {
    "name": "ipython",
    "version": 3
   },
   "file_extension": ".py",
   "mimetype": "text/x-python",
   "name": "python",
   "nbconvert_exporter": "python",
   "pygments_lexer": "ipython3",
   "version": "3.10.11"
  }
 },
 "nbformat": 4,
 "nbformat_minor": 2
}
