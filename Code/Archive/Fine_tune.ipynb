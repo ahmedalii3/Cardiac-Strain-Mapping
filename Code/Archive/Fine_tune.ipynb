{
 "cells": [
  {
   "cell_type": "code",
   "execution_count": 12,
   "id": "95c9e022",
   "metadata": {},
   "outputs": [],
   "source": [
    "import tensorflow as tf\n",
    "from tensorflow.keras.models import Model\n",
    "from tensorflow import keras\n",
    "from tensorflow.keras.callbacks import ModelCheckpoint, TensorBoard\n",
    "import matplotlib.pyplot as plt\n",
    "from keras.layers import Input, concatenate, add, Multiply, Lambda\n",
    "from keras.models import Model\n",
    "import os\n",
    "import numpy as np\n",
    "import tensorflow as tf\n",
    "from tensorflow.keras import layers, Model\n",
    "from tensorflow.keras.models import Model\n",
    "from scipy.ndimage import gaussian_filter\n",
    "from scipy.ndimage import distance_transform_edt, grey_closing, binary_closing, gaussian_filter\n",
    "from pathlib import Path\n",
    "import os\n",
    "import cv2\n",
    "from mpl_toolkits.axes_grid1 import make_axes_locatable\n",
    "import sys\n",
    "from mpl_toolkits.axes_grid1 import make_axes_locatable\n",
    "sys.path.append(os.path.abspath(\"/Users/ahmed_ali/Documents/GitHub/GP-2025-Strain/Code/FrameWork/Models_Arch\"))\n",
    "sys.path.append(os.path.abspath(\"/Users/ahmed_ali/Documents/GitHub/GP-2025-Strain/Code/FrameWork\"))\n",
    "from mask_loss import MaskLoss\n",
    "from mask_loss import MAELoss\n",
    "# print(str(Path(__file__).parent))\n",
    "from ResidualUnet import Residual_Unet\n",
    "from Unet import Unet\n",
    "from Unet_7Kernel import Unet_7Kernel\n",
    "from Unet_5Kernel import Unet_5Kernel\n",
    "from Unet_3Dense import Unet_3Dense\n",
    "from Unet_1Dense import Unet_1Dense\n",
    "from Unet_2Dense import Unet_2Dense\n",
    "from Unet_1Dense_7Kernel import Unet_1Dense_7Kernel\n",
    "from Unet_1Dense_5Kernel import Unet_1Dense_5Kernel\n",
    "from Unet_2Dense_7Kernel import Unet_2Dense_7Kernel\n",
    "from Unet_2Dense_5Kernel import Unet_2Dense_5Kernel\n",
    "from Unet_3Dense_7Kernel import Unet_3Dense_7Kernel\n",
    "from Unet_3Dense_5Kernel import Unet_3Dense_5Kernel\n",
    "from ResidualUnet_1Dense import Residual_Unet_1D\n",
    "from ResidualUnet_2Dense import Residual_Unet_2D\n",
    "from ResidualUnet_3Dense import Residual_Unet_3D\n",
    "from ResidualUnet_1Dense_7Kernels import Residual_Unet_1D_7K\n",
    "from ResidualUnet_1Dense_5Kernels import Residual_Unet_1D_5K\n",
    "from ResidualUnet_2Dense_7Kernels import Residual_Unet_2D_7K\n",
    "from ResidualUner_2Dense_5Kernels import Residual_Unet_2D_5K\n",
    "from ResidualUnet_3Dense_7Kernels import Residual_Unet_3D_7K\n",
    "from ResidualUnet_3Dense_5Kernels import Residual_Unet_3D_5K\n",
    "\n"
   ]
  },
  {
   "cell_type": "code",
   "execution_count": 13,
   "id": "b0523774",
   "metadata": {},
   "outputs": [],
   "source": [
    "fixed_images_train = np.load('/Users/ahmed_ali/Documents/GitHub/GP-2025-Strain/Code/FrameWork/Loaded_data/fixed_images_train.npy')\n",
    "fixed_images_test = np.load('/Users/ahmed_ali/Documents/GitHub/GP-2025-Strain/Code/FrameWork/Loaded_data/fixed_images_test.npy')\n",
    "moving_images_train = np.load('/Users/ahmed_ali/Documents/GitHub/GP-2025-Strain/Code/FrameWork/Loaded_data/moving_images_train.npy')\n",
    "moving_images_test = np.load('/Users/ahmed_ali/Documents/GitHub/GP-2025-Strain/Code/FrameWork/Loaded_data/moving_images_test.npy')\n",
    "fixed_images_valid = np.load('/Users/ahmed_ali/Documents/GitHub/GP-2025-Strain/Code/FrameWork/Loaded_data/fixed_images_valid.npy')\n",
    "moving_images_valid = np.load('/Users/ahmed_ali/Documents/GitHub/GP-2025-Strain/Code/FrameWork/Loaded_data/moving_images_valid.npy')\n",
    "y_train = np.load('/Users/ahmed_ali/Documents/GitHub/GP-2025-Strain/Code/FrameWork/Loaded_data/y_train.npy')\n",
    "y_test = np.load('/Users/ahmed_ali/Documents/GitHub/GP-2025-Strain/Code/FrameWork/Loaded_data/y_test.npy')\n",
    "y_valid = np.load('/Users/ahmed_ali/Documents/GitHub/GP-2025-Strain/Code/FrameWork/Loaded_data/y_valid.npy')"
   ]
  },
  {
   "cell_type": "code",
   "execution_count": 23,
   "id": "206db9ae",
   "metadata": {},
   "outputs": [],
   "source": [
    "model = tf.keras.models.load_model(\"/Users/ahmed_ali/Downloads/Unet_3Dense_5Kernel_with_mask.keras\", custom_objects={'MaskLoss': MaskLoss, 'MAELoss': MAELoss, 'Residual_Unet_1D_7K': Residual_Unet_1D_7K})"
   ]
  },
  {
   "cell_type": "code",
   "execution_count": null,
   "id": "314f3475",
   "metadata": {},
   "outputs": [],
   "source": [
    "model = tf.keras.models.load_model(\"/Users/ahmed_ali/Downloads/Unet_3Dense_5Kernel_with_mask.keras\", custom_objects={'MaskLoss': MaskLoss, 'MAELoss': MAELoss, 'Residual_Unet_1D_7K': Residual_Unet_1D_7K})\n",
    "/Users/ahmed_ali/Downloads/Unet_3Dense_5Kernel_with_mask.keras"
   ]
  },
  {
   "cell_type": "code",
   "execution_count": 24,
   "id": "16d3f788",
   "metadata": {},
   "outputs": [
    {
     "name": "stdout",
     "output_type": "stream",
     "text": [
      "Num GPUs Available:  1\n"
     ]
    }
   ],
   "source": [
    "physical_devices = tf.config.experimental.list_physical_devices('GPU')\n",
    "print(\"Num GPUs Available: \", len(physical_devices))\n"
   ]
  },
  {
   "cell_type": "code",
   "execution_count": 25,
   "id": "cbb56591",
   "metadata": {},
   "outputs": [
    {
     "name": "stdout",
     "output_type": "stream",
     "text": [
      "Epoch 1/2\n",
      "\u001b[1m198/198\u001b[0m \u001b[32m━━━━━━━━━━━━━━━━━━━━\u001b[0m\u001b[37m\u001b[0m \u001b[1m0s\u001b[0m 3s/step - loss: 0.0635 - mae_loss_2: 1.1460\n",
      "Epoch 1: val_loss improved from inf to 0.00473, saving model to /Users/ahmed_ali/Downloads/Unet_3Dense_5Kernel_with_mask.keras\n",
      "\u001b[1m198/198\u001b[0m \u001b[32m━━━━━━━━━━━━━━━━━━━━\u001b[0m\u001b[37m\u001b[0m \u001b[1m682s\u001b[0m 3s/step - loss: 0.0634 - mae_loss_2: 1.1434 - val_loss: 0.0047 - val_mae_loss_2: 0.2853\n",
      "Epoch 2/2\n",
      "\u001b[1m198/198\u001b[0m \u001b[32m━━━━━━━━━━━━━━━━━━━━\u001b[0m\u001b[37m\u001b[0m \u001b[1m0s\u001b[0m 4s/step - loss: 0.0054 - mae_loss_2: 0.2541\n",
      "Epoch 2: val_loss did not improve from 0.00473\n",
      "\u001b[1m198/198\u001b[0m \u001b[32m━━━━━━━━━━━━━━━━━━━━\u001b[0m\u001b[37m\u001b[0m \u001b[1m902s\u001b[0m 5s/step - loss: 0.0054 - mae_loss_2: 0.2540 - val_loss: 0.0071 - val_mae_loss_2: 0.2188\n"
     ]
    }
   ],
   "source": [
    "batch_size = 32\n",
    "num_epochs = 2\n",
    "\n",
    "optimizer = tf.keras.optimizers.Adam(learning_rate=0.0001, clipvalue=1.0)\n",
    "fixed_input = Input(shape=(128, 128, 1), name=\"fixed_image\")\n",
    "moving_input = Input(shape=(128, 128, 1), name=\"moving_image\")\n",
    "modelnet = model\n",
    "# model_name = model.__class__.__name__\n",
    "# self.model_names.append(model_name)\n",
    "out_def = modelnet([moving_input, fixed_input])\n",
    "model = Model(inputs=[moving_input, fixed_input], outputs=out_def)\n",
    "\n",
    "model.compile(optimizer=optimizer, loss=MaskLoss(), metrics=[MAELoss()])\n",
    "\n",
    "# file_name = f\"{model_name}.keras\"  \n",
    "check_point_path = '/Users/ahmed_ali/Downloads/Unet_3Dense_5Kernel_with_mask.keras'\n",
    "# Create an empty .keras file\n",
    "open(check_point_path, \"w\").close()\n",
    "\n",
    "\n",
    "# Define callbacks\n",
    "checkpoint_callback = ModelCheckpoint(\n",
    "check_point_path,\n",
    "monitor='val_loss',\n",
    "save_best_only=True,\n",
    "mode='min',\n",
    "verbose=1\n",
    "\n",
    ")\n",
    "\n",
    "stopping_callback = tf.keras.callbacks.EarlyStopping(\n",
    "monitor='val_loss',\n",
    "patience=15,\n",
    "mode='min',\n",
    "verbose=1\n",
    ")\n",
    "with tf.device('/GPU:0'):\n",
    "    history = model.fit(\n",
    "    [moving_images_train, fixed_images_train],\n",
    "    y_train,\n",
    "    batch_size=batch_size,\n",
    "    epochs = num_epochs,\n",
    "    validation_data=([moving_images_valid, fixed_images_valid], y_valid),\n",
    "    callbacks=[checkpoint_callback, stopping_callback],\n",
    "    )\n"
   ]
  }
 ],
 "metadata": {
  "kernelspec": {
   "display_name": "Python 3",
   "language": "python",
   "name": "python3"
  },
  "language_info": {
   "codemirror_mode": {
    "name": "ipython",
    "version": 3
   },
   "file_extension": ".py",
   "mimetype": "text/x-python",
   "name": "python",
   "nbconvert_exporter": "python",
   "pygments_lexer": "ipython3",
   "version": "3.11.6"
  }
 },
 "nbformat": 4,
 "nbformat_minor": 5
}
