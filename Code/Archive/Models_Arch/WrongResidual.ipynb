{
 "cells": [
  {
   "cell_type": "code",
   "execution_count": 2,
   "metadata": {},
   "outputs": [],
   "source": [
    "import tensorflow as tf\n",
    "from tensorflow.keras.models import Model\n",
    "from tensorflow import keras\n",
    "from tensorflow.keras.callbacks import ModelCheckpoint, TensorBoard\n",
    "import matplotlib.pyplot as plt\n",
    "from keras.layers import Input, concatenate, add, Multiply, Lambda\n",
    "from keras.layers import Conv3D, MaxPooling3D, MaxPooling2D, UpSampling2D,UpSampling3D, Conv2D\n",
    "from keras.layers import Activation\n",
    "from keras.layers import BatchNormalization\n",
    "from keras.models import Model\n",
    "import os\n",
    "import numpy as np\n",
    "import tensorflow as tf\n",
    "from tensorflow.keras import layers, Model\n",
    "from tensorflow.keras.initializers import HeUniform\n",
    "from tensorflow.keras.layers import Input, Conv2D, Conv2DTranspose, MaxPooling2D, Concatenate, Add, Multiply, BatchNormalization, Activation\n",
    "from tensorflow.keras.models import Model"
   ]
  },
  {
   "cell_type": "code",
   "execution_count": 4,
   "metadata": {},
   "outputs": [
    {
     "data": {
      "text/html": [
       "<pre style=\"white-space:pre;overflow-x:auto;line-height:normal;font-family:Menlo,'DejaVu Sans Mono',consolas,'Courier New',monospace\"><span style=\"font-weight: bold\">Model: \"functional_1\"</span>\n",
       "</pre>\n"
      ],
      "text/plain": [
       "\u001b[1mModel: \"functional_1\"\u001b[0m\n"
      ]
     },
     "metadata": {},
     "output_type": "display_data"
    },
    {
     "data": {
      "text/html": [
       "<pre style=\"white-space:pre;overflow-x:auto;line-height:normal;font-family:Menlo,'DejaVu Sans Mono',consolas,'Courier New',monospace\">┏━━━━━━━━━━━━━━━━━━━━━┳━━━━━━━━━━━━━━━━━━━┳━━━━━━━━━━━━┳━━━━━━━━━━━━━━━━━━━┓\n",
       "┃<span style=\"font-weight: bold\"> Layer (type)        </span>┃<span style=\"font-weight: bold\"> Output Shape      </span>┃<span style=\"font-weight: bold\">    Param # </span>┃<span style=\"font-weight: bold\"> Connected to      </span>┃\n",
       "┡━━━━━━━━━━━━━━━━━━━━━╇━━━━━━━━━━━━━━━━━━━╇━━━━━━━━━━━━╇━━━━━━━━━━━━━━━━━━━┩\n",
       "│ moving_image        │ (<span style=\"color: #00d7ff; text-decoration-color: #00d7ff\">None</span>, <span style=\"color: #00af00; text-decoration-color: #00af00\">128</span>, <span style=\"color: #00af00; text-decoration-color: #00af00\">128</span>,  │          <span style=\"color: #00af00; text-decoration-color: #00af00\">0</span> │ -                 │\n",
       "│ (<span style=\"color: #0087ff; text-decoration-color: #0087ff\">InputLayer</span>)        │ <span style=\"color: #00af00; text-decoration-color: #00af00\">1</span>)                │            │                   │\n",
       "├─────────────────────┼───────────────────┼────────────┼───────────────────┤\n",
       "│ fixed_image         │ (<span style=\"color: #00d7ff; text-decoration-color: #00d7ff\">None</span>, <span style=\"color: #00af00; text-decoration-color: #00af00\">128</span>, <span style=\"color: #00af00; text-decoration-color: #00af00\">128</span>,  │          <span style=\"color: #00af00; text-decoration-color: #00af00\">0</span> │ -                 │\n",
       "│ (<span style=\"color: #0087ff; text-decoration-color: #0087ff\">InputLayer</span>)        │ <span style=\"color: #00af00; text-decoration-color: #00af00\">1</span>)                │            │                   │\n",
       "├─────────────────────┼───────────────────┼────────────┼───────────────────┤\n",
       "│ residual__unet_1    │ (<span style=\"color: #00d7ff; text-decoration-color: #00d7ff\">None</span>, <span style=\"color: #00af00; text-decoration-color: #00af00\">128</span>, <span style=\"color: #00af00; text-decoration-color: #00af00\">128</span>,  │  <span style=\"color: #00af00; text-decoration-color: #00af00\">7,831,970</span> │ moving_image[<span style=\"color: #00af00; text-decoration-color: #00af00\">0</span>][<span style=\"color: #00af00; text-decoration-color: #00af00\">…</span> │\n",
       "│ (<span style=\"color: #0087ff; text-decoration-color: #0087ff\">Residual_Unet</span>)     │ <span style=\"color: #00af00; text-decoration-color: #00af00\">2</span>)                │            │ fixed_image[<span style=\"color: #00af00; text-decoration-color: #00af00\">0</span>][<span style=\"color: #00af00; text-decoration-color: #00af00\">0</span>] │\n",
       "└─────────────────────┴───────────────────┴────────────┴───────────────────┘\n",
       "</pre>\n"
      ],
      "text/plain": [
       "┏━━━━━━━━━━━━━━━━━━━━━┳━━━━━━━━━━━━━━━━━━━┳━━━━━━━━━━━━┳━━━━━━━━━━━━━━━━━━━┓\n",
       "┃\u001b[1m \u001b[0m\u001b[1mLayer (type)       \u001b[0m\u001b[1m \u001b[0m┃\u001b[1m \u001b[0m\u001b[1mOutput Shape     \u001b[0m\u001b[1m \u001b[0m┃\u001b[1m \u001b[0m\u001b[1m   Param #\u001b[0m\u001b[1m \u001b[0m┃\u001b[1m \u001b[0m\u001b[1mConnected to     \u001b[0m\u001b[1m \u001b[0m┃\n",
       "┡━━━━━━━━━━━━━━━━━━━━━╇━━━━━━━━━━━━━━━━━━━╇━━━━━━━━━━━━╇━━━━━━━━━━━━━━━━━━━┩\n",
       "│ moving_image        │ (\u001b[38;5;45mNone\u001b[0m, \u001b[38;5;34m128\u001b[0m, \u001b[38;5;34m128\u001b[0m,  │          \u001b[38;5;34m0\u001b[0m │ -                 │\n",
       "│ (\u001b[38;5;33mInputLayer\u001b[0m)        │ \u001b[38;5;34m1\u001b[0m)                │            │                   │\n",
       "├─────────────────────┼───────────────────┼────────────┼───────────────────┤\n",
       "│ fixed_image         │ (\u001b[38;5;45mNone\u001b[0m, \u001b[38;5;34m128\u001b[0m, \u001b[38;5;34m128\u001b[0m,  │          \u001b[38;5;34m0\u001b[0m │ -                 │\n",
       "│ (\u001b[38;5;33mInputLayer\u001b[0m)        │ \u001b[38;5;34m1\u001b[0m)                │            │                   │\n",
       "├─────────────────────┼───────────────────┼────────────┼───────────────────┤\n",
       "│ residual__unet_1    │ (\u001b[38;5;45mNone\u001b[0m, \u001b[38;5;34m128\u001b[0m, \u001b[38;5;34m128\u001b[0m,  │  \u001b[38;5;34m7,831,970\u001b[0m │ moving_image[\u001b[38;5;34m0\u001b[0m][\u001b[38;5;34m…\u001b[0m │\n",
       "│ (\u001b[38;5;33mResidual_Unet\u001b[0m)     │ \u001b[38;5;34m2\u001b[0m)                │            │ fixed_image[\u001b[38;5;34m0\u001b[0m][\u001b[38;5;34m0\u001b[0m] │\n",
       "└─────────────────────┴───────────────────┴────────────┴───────────────────┘\n"
      ]
     },
     "metadata": {},
     "output_type": "display_data"
    },
    {
     "data": {
      "text/html": [
       "<pre style=\"white-space:pre;overflow-x:auto;line-height:normal;font-family:Menlo,'DejaVu Sans Mono',consolas,'Courier New',monospace\"><span style=\"font-weight: bold\"> Total params: </span><span style=\"color: #00af00; text-decoration-color: #00af00\">7,831,970</span> (29.88 MB)\n",
       "</pre>\n"
      ],
      "text/plain": [
       "\u001b[1m Total params: \u001b[0m\u001b[38;5;34m7,831,970\u001b[0m (29.88 MB)\n"
      ]
     },
     "metadata": {},
     "output_type": "display_data"
    },
    {
     "data": {
      "text/html": [
       "<pre style=\"white-space:pre;overflow-x:auto;line-height:normal;font-family:Menlo,'DejaVu Sans Mono',consolas,'Courier New',monospace\"><span style=\"font-weight: bold\"> Trainable params: </span><span style=\"color: #00af00; text-decoration-color: #00af00\">7,823,010</span> (29.84 MB)\n",
       "</pre>\n"
      ],
      "text/plain": [
       "\u001b[1m Trainable params: \u001b[0m\u001b[38;5;34m7,823,010\u001b[0m (29.84 MB)\n"
      ]
     },
     "metadata": {},
     "output_type": "display_data"
    },
    {
     "data": {
      "text/html": [
       "<pre style=\"white-space:pre;overflow-x:auto;line-height:normal;font-family:Menlo,'DejaVu Sans Mono',consolas,'Courier New',monospace\"><span style=\"font-weight: bold\"> Non-trainable params: </span><span style=\"color: #00af00; text-decoration-color: #00af00\">8,960</span> (35.00 KB)\n",
       "</pre>\n"
      ],
      "text/plain": [
       "\u001b[1m Non-trainable params: \u001b[0m\u001b[38;5;34m8,960\u001b[0m (35.00 KB)\n"
      ]
     },
     "metadata": {},
     "output_type": "display_data"
    }
   ],
   "source": [
    "class Identity_block(tf.keras.Model):\n",
    "    def __init__(self, filters, kernel_size, strides, padding = 'same'):\n",
    "        super(Identity_block, self).__init__()\n",
    "        self.bn1 = tf.keras.layers.BatchNormalization()\n",
    "        self.act1 = tf.keras.layers.Activation('relu')\n",
    "        self.conv1 = tf.keras.layers.Conv2D(filters, kernel_size, padding=padding,strides = strides)\n",
    "\n",
    "        self.bn2 = tf.keras.layers.BatchNormalization()\n",
    "        self.act2 = tf.keras.layers.Activation('relu')\n",
    "        self.conv2 = tf.keras.layers.Conv2D(filters, kernel_size,padding=padding,strides = 1 )\n",
    "\n",
    "        self.shortcut = tf.keras.layers.Conv2D(filters, kernel_size = (1,1), padding=padding, strides=strides)\n",
    "        self.bn3 = tf.keras.layers.BatchNormalization()\n",
    "\n",
    "        self.add = tf.keras.layers.Add()\n",
    "\n",
    "    def call(self, inputs):\n",
    "        x = self.bn1(inputs)\n",
    "        x = self.act1(x)\n",
    "        x = self.conv1(x)\n",
    "        x = self.bn2(x)\n",
    "        x = self.act2(x)\n",
    "        x = self.conv2(x)\n",
    "        shortcut = self.shortcut(inputs)\n",
    "        shortcut = self.bn3(shortcut)\n",
    "        x = self.add([x, shortcut])\n",
    "        return x\n",
    "\n",
    "class Upsample_Concatenate_block(tf.keras.Model):\n",
    "    def __init__(self):\n",
    "        super(Upsample_Concatenate_block, self).__init__()\n",
    "        self.upsample = tf.keras.layers.UpSampling2D(size=(2, 2))\n",
    "        self.concat = tf.keras.layers.Concatenate()\n",
    "\n",
    "    def call(self, inputs, skip):\n",
    "        x = self.upsample(inputs)\n",
    "        x = self.concat([x, skip])\n",
    "        return x\n",
    "\n",
    "class Residual_Unet(tf.keras.Model):\n",
    "    def __init__(self):\n",
    "        super(Residual_Unet, self).__init__()\n",
    "\n",
    "        # Encoder\n",
    "        self.conv1 = tf.keras.layers.Conv2D(32, 3, padding='same',strides = 1)\n",
    "        self.bn1 = tf.keras.layers.BatchNormalization()\n",
    "        self.act1 = tf.keras.layers.Activation('relu')\n",
    "        self.conv2 = tf.keras.layers.Conv2D(32, 3, padding='same', strides = 1)\n",
    "        self.shortcut1 = tf.keras.layers.Conv2D(32, 1, padding='same',  strides = 1)\n",
    "        self.bn2 = tf.keras.layers.BatchNormalization()\n",
    "        self.add1 = tf.keras.layers.Add()\n",
    "        # try different kernel sizes\n",
    "        self.idblock1 = Identity_block(64, 3, 2)\n",
    "        self.idblock2 = Identity_block(128, 3, 2)\n",
    "        self.idblock3 = Identity_block(256, 3, 2)\n",
    "\n",
    "        # bridge\n",
    "        self.bridge = Identity_block(512, 3, 1)\n",
    "\n",
    "        # Decoder\n",
    "        self.up_concat1 = Upsample_Concatenate_block()\n",
    "        self.idblock4 = Identity_block(256, 3, 1)\n",
    "\n",
    "        self.up_concat2 = Upsample_Concatenate_block()\n",
    "        self.idblock5 = Identity_block(128, 3, 1)\n",
    "\n",
    "        self.up_concat3 = Upsample_Concatenate_block()\n",
    "        self.idblock6 = Identity_block(64, 3, 1)\n",
    "        # try different dense layers\n",
    "        self.output_con_def = tf.keras.layers.Conv2D(2, 1, padding='same', activation='linear')\n",
    "\n",
    "\n",
    "    def call(self, inputs):\n",
    "        moving_image, fixed_image = inputs\n",
    "        x = tf.concat([moving_image, fixed_image], axis=-1)\n",
    "\n",
    "        # Encoder\n",
    "        e0 = self.conv1(x)\n",
    "        e0 = self.bn1(e0)\n",
    "        e0 = self.act1(e0)\n",
    "        e0 = self.conv2(e0)\n",
    "        shortcut1 = self.shortcut1(e0)\n",
    "        e0 = self.bn2(shortcut1)\n",
    "        e0 = self.add1([e0, shortcut1])\n",
    "\n",
    "        e1 = self.idblock1(e0)\n",
    "        e2 = self.idblock2(e1)\n",
    "        e3 = self.idblock3(e2)\n",
    "\n",
    "        # bridge\n",
    "        bridge = self.bridge(e3)\n",
    "\n",
    "        # Decoder\n",
    "        d1 = self.up_concat1(bridge, e2)\n",
    "        d1 = self.idblock4(d1)\n",
    "\n",
    "        d2 = self.up_concat2(d1, e1)\n",
    "        d2 = self.idblock5(d2)\n",
    "\n",
    "        d3 = self.up_concat3(d2, e0)\n",
    "        d3 = self.idblock6(d3)\n",
    "\n",
    "        output_def = self.output_con_def(d3)\n",
    "\n",
    "\n",
    "        return output_def\n",
    "\n",
    "fixed_input = Input(shape=(128, 128, 1), name=\"fixed_image\")\n",
    "moving_input = Input(shape=(128, 128, 1), name=\"moving_image\")\n",
    "\n",
    "resunet = Residual_Unet()\n",
    "out_def = resunet([moving_input, fixed_input])\n",
    "\n",
    "model = Model(inputs=[moving_input, fixed_input], outputs=out_def)\n",
    "\n",
    "# Print model summary\n",
    "model.summary()\n",
    "\n"
   ]
  }
 ],
 "metadata": {
  "kernelspec": {
   "display_name": "Python 3",
   "language": "python",
   "name": "python3"
  },
  "language_info": {
   "codemirror_mode": {
    "name": "ipython",
    "version": 3
   },
   "file_extension": ".py",
   "mimetype": "text/x-python",
   "name": "python",
   "nbconvert_exporter": "python",
   "pygments_lexer": "ipython3",
   "version": "3.12.7"
  }
 },
 "nbformat": 4,
 "nbformat_minor": 2
}
